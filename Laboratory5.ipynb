{
 "cells": [
  {
   "cell_type": "markdown",
   "id": "06c96134",
   "metadata": {},
   "source": [
    "# Part 1 - Exploratory Data Analysis and Baseline Models"
   ]
  },
  {
   "cell_type": "markdown",
   "id": "1d5e4331",
   "metadata": {},
   "source": [
    "Problem 1:"
   ]
  },
  {
   "cell_type": "code",
   "execution_count": 1,
   "id": "31cd7c45",
   "metadata": {},
   "outputs": [],
   "source": [
    "import pandas as pd\n",
    "import numpy as np \n",
    "import matplotlib.pyplot as plt\n",
    "import seaborn as sns\n",
    "\n",
    "from sklearn.linear_model import LinearRegression\n",
    "from sklearn.preprocessing import MinMaxScaler\n",
    "from sklearn.model_selection import train_test_split\n",
    "from sklearn.metrics import r2_score\n",
    "from sklearn.preprocessing import StandardScaler\n",
    "from sklearn import metrics"
   ]
  },
  {
   "cell_type": "markdown",
   "id": "09866e02",
   "metadata": {},
   "source": [
    "Problem 2:"
   ]
  },
  {
   "cell_type": "code",
   "execution_count": 2,
   "id": "263a5dcd",
   "metadata": {},
   "outputs": [],
   "source": [
    "df = pd.read_csv(\"genes_train.csv\")\n",
    "df1 = pd.read_csv(\"genes_test.csv\")"
   ]
  },
  {
   "cell_type": "markdown",
   "id": "7a0be890",
   "metadata": {},
   "source": [
    "Problem 3: "
   ]
  },
  {
   "cell_type": "code",
   "execution_count": 79,
   "id": "75b836e4",
   "metadata": {},
   "outputs": [
    {
     "data": {
      "text/plain": [
       "(40, 7131)"
      ]
     },
     "execution_count": 79,
     "metadata": {},
     "output_type": "execute_result"
    }
   ],
   "source": [
    "df.shape"
   ]
  },
  {
   "cell_type": "markdown",
   "id": "762204a1",
   "metadata": {},
   "source": [
    "There are 7131 features and 40 measurements in the training data. This seems quite unbalanced since 7000 features is quite a lot for 40 measurements each."
   ]
  },
  {
   "cell_type": "markdown",
   "id": "9ee8925a",
   "metadata": {},
   "source": [
    "Problem 4: "
   ]
  },
  {
   "cell_type": "code",
   "execution_count": 3,
   "id": "aab539bd",
   "metadata": {},
   "outputs": [
    {
     "data": {
      "text/plain": [
       "ALL    29\n",
       "AML    11\n",
       "Name: cancer type, dtype: int64"
      ]
     },
     "execution_count": 3,
     "metadata": {},
     "output_type": "execute_result"
    }
   ],
   "source": [
    "df[\"cancer type\"].value_counts()"
   ]
  },
  {
   "cell_type": "markdown",
   "id": "22183098",
   "metadata": {},
   "source": [
    "The number of patients with ALL is 29 and the number of patients with AML are 11. This output data seems unbalanced due the significant difference between the cancer types."
   ]
  },
  {
   "cell_type": "markdown",
   "id": "630f2639",
   "metadata": {},
   "source": [
    "Problem 5: \n"
   ]
  },
  {
   "cell_type": "code",
   "execution_count": 81,
   "id": "7f978deb",
   "metadata": {},
   "outputs": [
    {
     "name": "stderr",
     "output_type": "stream",
     "text": [
      "C:\\Users\\ameen\\AppData\\Local\\Temp\\ipykernel_11316\\66732827.py:1: FutureWarning: Dropping of nuisance columns in DataFrame reductions (with 'numeric_only=None') is deprecated; in a future version this will raise TypeError.  Select only valid columns before calling the reduction.\n",
      "  df.max(axis = 1)\n"
     ]
    },
    {
     "data": {
      "text/plain": [
       "0     31086\n",
       "1     29288\n",
       "2     28056\n",
       "3     31449\n",
       "4     29543\n",
       "5     38467\n",
       "6     41911\n",
       "7     40065\n",
       "8     23602\n",
       "9     28033\n",
       "10    25966\n",
       "11    30546\n",
       "12    30797\n",
       "13    28519\n",
       "14    30256\n",
       "15    27268\n",
       "16    28952\n",
       "17    32645\n",
       "18    33143\n",
       "19    27358\n",
       "20    33548\n",
       "21    39558\n",
       "22    36417\n",
       "23    27983\n",
       "24    32785\n",
       "25    31614\n",
       "26    31261\n",
       "27    29833\n",
       "28    30354\n",
       "29    25055\n",
       "30    28350\n",
       "31    25093\n",
       "32    32946\n",
       "33    28698\n",
       "34    61228\n",
       "35    37164\n",
       "36    32204\n",
       "37    29169\n",
       "38    45815\n",
       "39    29136\n",
       "dtype: int64"
      ]
     },
     "execution_count": 81,
     "metadata": {},
     "output_type": "execute_result"
    }
   ],
   "source": [
    "df.max(axis = 1)"
   ]
  },
  {
   "cell_type": "code",
   "execution_count": 82,
   "id": "cd52d154",
   "metadata": {},
   "outputs": [
    {
     "name": "stderr",
     "output_type": "stream",
     "text": [
      "C:\\Users\\ameen\\AppData\\Local\\Temp\\ipykernel_11316\\1562927657.py:1: FutureWarning: Dropping of nuisance columns in DataFrame reductions (with 'numeric_only=None') is deprecated; in a future version this will raise TypeError.  Select only valid columns before calling the reduction.\n",
      "  df.min(axis = 1)\n"
     ]
    },
    {
     "data": {
      "text/plain": [
       "0    -19826\n",
       "1    -17930\n",
       "2    -27182\n",
       "3    -23396\n",
       "4    -10339\n",
       "5    -21658\n",
       "6    -24024\n",
       "7    -27570\n",
       "8    -25171\n",
       "9    -12500\n",
       "10   -17480\n",
       "11   -15256\n",
       "12   -12854\n",
       "13   -14937\n",
       "14   -13380\n",
       "15   -10492\n",
       "16   -19523\n",
       "17    -8692\n",
       "18   -11572\n",
       "19   -13838\n",
       "20    -7397\n",
       "21   -17179\n",
       "22   -14937\n",
       "23   -17368\n",
       "24   -17377\n",
       "25   -10652\n",
       "26   -20406\n",
       "27   -20376\n",
       "28    -9501\n",
       "29   -17580\n",
       "30   -25491\n",
       "31   -28400\n",
       "32   -27811\n",
       "33   -17310\n",
       "34   -16281\n",
       "35   -27398\n",
       "36   -23673\n",
       "37   -23645\n",
       "38   -21984\n",
       "39   -21296\n",
       "dtype: int64"
      ]
     },
     "execution_count": 82,
     "metadata": {},
     "output_type": "execute_result"
    }
   ],
   "source": [
    "df.min(axis = 1)"
   ]
  },
  {
   "cell_type": "code",
   "execution_count": 83,
   "id": "941d1083",
   "metadata": {},
   "outputs": [
    {
     "name": "stderr",
     "output_type": "stream",
     "text": [
      "C:\\Users\\ameen\\AppData\\Local\\Temp\\ipykernel_11316\\3216275966.py:1: FutureWarning: Dropping of nuisance columns in DataFrame reductions (with 'numeric_only=None') is deprecated; in a future version this will raise TypeError.  Select only valid columns before calling the reduction.\n",
      "  df.mean(axis = 1)\n"
     ]
    },
    {
     "data": {
      "text/plain": [
       "0     641.277279\n",
       "1     690.149790\n",
       "2     698.210379\n",
       "3     600.901543\n",
       "4     679.438289\n",
       "5     564.719355\n",
       "6     584.356662\n",
       "7     571.280084\n",
       "8     789.604208\n",
       "9     599.400421\n",
       "10    632.166760\n",
       "11    492.532819\n",
       "12    674.563815\n",
       "13    648.522581\n",
       "14    705.682188\n",
       "15    624.492847\n",
       "16    791.292987\n",
       "17    557.489902\n",
       "18    558.555820\n",
       "19    954.292006\n",
       "20    577.572230\n",
       "21    524.687798\n",
       "22    532.180926\n",
       "23    662.077279\n",
       "24    597.783450\n",
       "25    603.232398\n",
       "26    501.277279\n",
       "27    673.188920\n",
       "28    556.389201\n",
       "29    718.837868\n",
       "30    598.569285\n",
       "31    676.830435\n",
       "32    723.466620\n",
       "33    618.776578\n",
       "34    514.429453\n",
       "35    775.039832\n",
       "36    689.156662\n",
       "37    626.803366\n",
       "38    582.118794\n",
       "39    527.750912\n",
       "dtype: float64"
      ]
     },
     "execution_count": 83,
     "metadata": {},
     "output_type": "execute_result"
    }
   ],
   "source": [
    "df.mean(axis = 1)"
   ]
  },
  {
   "cell_type": "markdown",
   "id": "16ddc94f",
   "metadata": {},
   "source": [
    "It is the case for both the max and min, but the mean doesn't seem to be so far apart. This is a problem because then this causes the data to be not as accurate as it should be. \n",
    "Yes, we do need to scale the data because this is a problem."
   ]
  },
  {
   "cell_type": "markdown",
   "id": "fa56f9da",
   "metadata": {},
   "source": [
    "Problem 6: "
   ]
  },
  {
   "cell_type": "code",
   "execution_count": 84,
   "id": "b2e215ec",
   "metadata": {},
   "outputs": [],
   "source": [
    "x_train = df.drop([\"patient\", \"cancer type\"], axis = 1)\n",
    "y_train = df[\"cancer type\"]\n",
    "\n",
    "\n",
    "x_test = df1.drop([\"patient\", \"cancer type\"], axis = 1)\n",
    "y_test = df1[\"cancer type\"]"
   ]
  },
  {
   "cell_type": "markdown",
   "id": "d9743632",
   "metadata": {},
   "source": [
    "The columns that should be dropped are patient and cancer type because we don't need the patient number or the cancer types in the data for this.\n",
    "The y output would be cancer type."
   ]
  },
  {
   "cell_type": "markdown",
   "id": "5f9baa9e",
   "metadata": {},
   "source": [
    "Problem 7:"
   ]
  },
  {
   "cell_type": "markdown",
   "id": "fe7329b7",
   "metadata": {},
   "source": [
    "Problem 7a:"
   ]
  },
  {
   "cell_type": "code",
   "execution_count": 85,
   "id": "c0d97ca0",
   "metadata": {},
   "outputs": [],
   "source": [
    "scaler = StandardScaler()\n",
    "\n",
    "x_train_scaled = scaler.fit_transform(x_train)\n",
    "x_test_scaled = scaler.fit_transform(x_test)"
   ]
  },
  {
   "cell_type": "markdown",
   "id": "19501fc0",
   "metadata": {},
   "source": [
    "Problem 7b:"
   ]
  },
  {
   "cell_type": "code",
   "execution_count": 86,
   "id": "4173d45a",
   "metadata": {},
   "outputs": [
    {
     "name": "stdout",
     "output_type": "stream",
     "text": [
      "1.0\n"
     ]
    }
   ],
   "source": [
    "from sklearn.linear_model import LogisticRegression\n",
    "\n",
    "model = LogisticRegression()\n",
    "model.fit(x_train_scaled, y_train)\n",
    "\n",
    "y_pred1 = model.predict(x_test_scaled)\n",
    "print(model.score(x_train_scaled, y_train))"
   ]
  },
  {
   "cell_type": "code",
   "execution_count": 87,
   "id": "bcd4e6c7",
   "metadata": {},
   "outputs": [
    {
     "name": "stdout",
     "output_type": "stream",
     "text": [
      "[[18  0]\n",
      " [ 8  6]]\n",
      "Accuracy:  0.75\n"
     ]
    }
   ],
   "source": [
    "cm = metrics.confusion_matrix(y_test, y_pred1)\n",
    "print(cm)\n",
    "\n",
    "print(\"Accuracy: \", metrics.accuracy_score(y_test, y_pred1))"
   ]
  },
  {
   "cell_type": "markdown",
   "id": "621b699c",
   "metadata": {},
   "source": [
    "The score for the model on the training data is 1 and the accuracy is 0.75.\n",
    "\n",
    "The confusion matrix crrectly predicted 24 patients and incorrectly predicted 8 of the patients."
   ]
  },
  {
   "cell_type": "markdown",
   "id": "a4a7f992",
   "metadata": {},
   "source": [
    "Problem 7c:"
   ]
  },
  {
   "cell_type": "code",
   "execution_count": 88,
   "id": "edb68efe",
   "metadata": {},
   "outputs": [
    {
     "name": "stdout",
     "output_type": "stream",
     "text": [
      "1.0\n"
     ]
    }
   ],
   "source": [
    "from sklearn.naive_bayes import GaussianNB\n",
    "\n",
    "model = GaussianNB()\n",
    "model.fit(x_train_scaled, y_train)\n",
    "\n",
    "y_pred2 = model.predict(x_test_scaled)\n",
    "print(model.score(x_train_scaled, y_train))"
   ]
  },
  {
   "cell_type": "code",
   "execution_count": 89,
   "id": "dafe50aa",
   "metadata": {},
   "outputs": [
    {
     "name": "stdout",
     "output_type": "stream",
     "text": [
      "[[18  0]\n",
      " [ 7  7]]\n",
      "Accuracy:  0.78125\n"
     ]
    }
   ],
   "source": [
    "cm = metrics.confusion_matrix(y_test, y_pred2)\n",
    "print(cm)\n",
    "\n",
    "print(\"Accuracy: \", metrics.accuracy_score(y_test, y_pred2))"
   ]
  },
  {
   "cell_type": "markdown",
   "id": "694999bf",
   "metadata": {},
   "source": [
    "The score of the model on the training data is 1 and the accuracy is 0.78125.\n",
    "\n",
    "The confusion matrix correctly predicted 25 patients and incorrectly predicted 7 of the patients. "
   ]
  },
  {
   "cell_type": "markdown",
   "id": "087e2fdd",
   "metadata": {},
   "source": [
    "Problem 7d:"
   ]
  },
  {
   "cell_type": "markdown",
   "id": "0d9332e9",
   "metadata": {},
   "source": [
    "The scores are low because we are transforming both sets of data, training and test. It is reasonable for it be less accurate because it is trying to fit it in a certain model. \n",
    "\n",
    "The confusion matrix shows that there false positives in the results. "
   ]
  },
  {
   "cell_type": "markdown",
   "id": "951842e5",
   "metadata": {},
   "source": [
    "Problem 8:"
   ]
  },
  {
   "cell_type": "markdown",
   "id": "985e592a",
   "metadata": {},
   "source": [
    "Problem 8a: "
   ]
  },
  {
   "cell_type": "code",
   "execution_count": 90,
   "id": "23a477dd",
   "metadata": {},
   "outputs": [],
   "source": [
    "df_train_scaled = (x_train - x_train.mean())/x_train.std()"
   ]
  },
  {
   "cell_type": "markdown",
   "id": "f6cfc8b3",
   "metadata": {},
   "source": [
    "Problem 8b:"
   ]
  },
  {
   "cell_type": "code",
   "execution_count": 91,
   "id": "7bb64759",
   "metadata": {},
   "outputs": [],
   "source": [
    "df_test_scaled = (x_test - x_train.mean())/x_train.std()"
   ]
  },
  {
   "cell_type": "markdown",
   "id": "22daf8ee",
   "metadata": {},
   "source": [
    "Problem 8c: "
   ]
  },
  {
   "cell_type": "code",
   "execution_count": 92,
   "id": "9db05443",
   "metadata": {},
   "outputs": [
    {
     "name": "stdout",
     "output_type": "stream",
     "text": [
      "1.0\n",
      "[[18  0]\n",
      " [ 6  8]]\n",
      "Accuracy:  0.8125\n"
     ]
    }
   ],
   "source": [
    "from sklearn.linear_model import LogisticRegression\n",
    "\n",
    "model1 = LogisticRegression()\n",
    "model1.fit(df_train_scaled, y_train)\n",
    "\n",
    "y_pred3 = model1.predict(df_test_scaled)\n",
    "print(model1.score(df_train_scaled, y_train))\n",
    "\n",
    "cm = metrics.confusion_matrix(y_test, y_pred3)\n",
    "print(cm)\n",
    "\n",
    "print(\"Accuracy: \", metrics.accuracy_score(y_test, y_pred3))"
   ]
  },
  {
   "cell_type": "code",
   "execution_count": 93,
   "id": "20034ac6",
   "metadata": {},
   "outputs": [
    {
     "name": "stdout",
     "output_type": "stream",
     "text": [
      "1.0\n",
      "[[16  2]\n",
      " [ 1 13]]\n",
      "Accuracy:  0.90625\n"
     ]
    }
   ],
   "source": [
    "from sklearn.naive_bayes import GaussianNB\n",
    "model2 = GaussianNB()\n",
    "model2.fit(df_train_scaled, y_train)\n",
    "\n",
    "y_pred4 = model2.predict(df_test_scaled)\n",
    "print(model2.score(df_train_scaled, y_train))\n",
    "\n",
    "cm = metrics.confusion_matrix(y_test, y_pred4)\n",
    "print(cm)\n",
    "\n",
    "print(\"Accuracy: \", metrics.accuracy_score(y_test, y_pred4))"
   ]
  },
  {
   "cell_type": "markdown",
   "id": "0ca3628d",
   "metadata": {},
   "source": [
    "The model score I got from both logistic regression and Naive Bayes model was 1. The accuracy was better in the Naive Bayes model compared to the logistic regression model. This did increase the performance because we only used the training data to fit within the model."
   ]
  },
  {
   "cell_type": "markdown",
   "id": "3899d998",
   "metadata": {},
   "source": [
    "# Part 2 - Feature Reduction Using Principal Component Analysis "
   ]
  },
  {
   "cell_type": "markdown",
   "id": "a5914f7b",
   "metadata": {},
   "source": [
    "Problem 1: "
   ]
  },
  {
   "cell_type": "markdown",
   "id": "aed946c1",
   "metadata": {},
   "source": [
    "Problem 1a:"
   ]
  },
  {
   "cell_type": "code",
   "execution_count": 94,
   "id": "219fbf23",
   "metadata": {},
   "outputs": [
    {
     "name": "stdout",
     "output_type": "stream",
     "text": [
      "[0.52164574 0.60640497 0.65187725 0.689372   0.72101441 0.75093797\n",
      " 0.77463233 0.79456914 0.81381202 0.82923728]\n"
     ]
    }
   ],
   "source": [
    "from sklearn.decomposition import PCA\n",
    "\n",
    "pca = PCA(n_components = 10)\n",
    "\n",
    "x_train_scaled_pca = pca.fit_transform(df_train_scaled)\n",
    "x_test_scaled_pca = pca.fit_transform(df_test_scaled)\n",
    "print(pca.explained_variance_ratio_.cumsum())"
   ]
  },
  {
   "cell_type": "markdown",
   "id": "ed850158",
   "metadata": {},
   "source": [
    "Problem 1b: "
   ]
  },
  {
   "cell_type": "code",
   "execution_count": 95,
   "id": "d8d08735",
   "metadata": {},
   "outputs": [
    {
     "name": "stdout",
     "output_type": "stream",
     "text": [
      "[0.52164574 0.60640497 0.65187725 0.68937201 0.72101446 0.75093824\n",
      " 0.77463291 0.79457263 0.81381639 0.82924797 0.84398271 0.85737482\n",
      " 0.86984019 0.88102933 0.89129294 0.90107198 0.91055876 0.91969666\n",
      " 0.92837587 0.93696571]\n"
     ]
    }
   ],
   "source": [
    "from sklearn.decomposition import PCA\n",
    "\n",
    "pca = PCA(n_components = 20)\n",
    "\n",
    "x_train_scaled_pca = pca.fit_transform(df_train_scaled)\n",
    "x_test_scaled_pca = pca.fit_transform(df_test_scaled)\n",
    "print(pca.explained_variance_ratio_.cumsum())"
   ]
  },
  {
   "cell_type": "code",
   "execution_count": 96,
   "id": "69aba992",
   "metadata": {},
   "outputs": [
    {
     "name": "stdout",
     "output_type": "stream",
     "text": [
      "[0.52164574 0.60640497 0.65187725 0.68937201 0.72101446 0.75093824\n",
      " 0.77463291 0.79457263 0.8138164  0.82924798 0.84398273 0.85737484\n",
      " 0.86984072 0.88103121 0.89129493 0.90108005 0.91056867 0.91970726\n",
      " 0.92839823 0.93698864 0.94503444 0.95263456 0.95971394 0.96624559\n",
      " 0.97227254 0.97792666 0.98337456 0.98825999 0.99292778 0.99679308]\n"
     ]
    }
   ],
   "source": [
    "from sklearn.decomposition import PCA\n",
    "\n",
    "pca = PCA(n_components = 30)\n",
    "\n",
    "x_train_scaled_pca = pca.fit_transform(df_train_scaled)\n",
    "x_test_scaled_pca = pca.fit_transform(df_test_scaled)\n",
    "print(pca.explained_variance_ratio_.cumsum())"
   ]
  },
  {
   "cell_type": "markdown",
   "id": "a65186ea",
   "metadata": {},
   "source": [
    "As the number of components was changed, there was no significant differene in the values within the arrays, the only effect that was being done is the additional values to be seen as the number of components increased. \n",
    "\n",
    "You need to have 30 components to explain the 90% of the variance."
   ]
  },
  {
   "cell_type": "raw",
   "id": "27845691",
   "metadata": {},
   "source": [
    "Problem 3:"
   ]
  },
  {
   "cell_type": "code",
   "execution_count": 97,
   "id": "5fb34cfc",
   "metadata": {},
   "outputs": [],
   "source": [
    "pca = PCA(n_components = 30)\n",
    "\n",
    "x_train_scaled_pca = pca.fit_transform(df_train_scaled)\n",
    "x_test_scaled_pca = pca.transform(df_test_scaled)"
   ]
  },
  {
   "cell_type": "code",
   "execution_count": 98,
   "id": "b4c71fc8",
   "metadata": {},
   "outputs": [
    {
     "name": "stdout",
     "output_type": "stream",
     "text": [
      "1.0\n",
      "[[18  0]\n",
      " [ 7  7]]\n",
      "Accuracy: 0.78125\n"
     ]
    }
   ],
   "source": [
    "model3 = LogisticRegression()\n",
    "model3.fit(x_train_scaled_pca, y_train)\n",
    "y_pred5 = model3.predict(x_test_scaled_pca)\n",
    "print(model3.score(x_train_scaled_pca,y_train))\n",
    "\n",
    "from sklearn import metrics \n",
    "cm = metrics.confusion_matrix(y_test, y_pred5)\n",
    "print(cm)\n",
    "print(\"Accuracy:\", metrics.accuracy_score(y_test, y_pred5))"
   ]
  },
  {
   "cell_type": "code",
   "execution_count": 99,
   "id": "bcf00449",
   "metadata": {},
   "outputs": [
    {
     "name": "stdout",
     "output_type": "stream",
     "text": [
      "0.975\n",
      "[[18  0]\n",
      " [10  4]]\n",
      "Accuracy: 0.6875\n"
     ]
    }
   ],
   "source": [
    "from sklearn.naive_bayes import GaussianNB\n",
    "model4 = GaussianNB()\n",
    "model4.fit(x_train_scaled_pca, y_train)\n",
    "y_pred6 = model4.predict(x_test_scaled_pca)\n",
    "print(model4.score(x_train_scaled_pca,y_train))\n",
    "\n",
    "from sklearn import metrics \n",
    "cm = metrics.confusion_matrix(y_test, y_pred6)\n",
    "print(cm)\n",
    "print(\"Accuracy:\", metrics.accuracy_score(y_test, y_pred6))"
   ]
  },
  {
   "cell_type": "markdown",
   "id": "26dfe45d",
   "metadata": {},
   "source": [
    "The models became less accurate compared to the models from Part 1. The accuracy has decreased to 0.78 for the Lienar Regression model and 0.687 for the Naive Bayes Model. These models are not generalizable to new patients compared to the first ones in Part 1. The effect was caused because we used a small set of values compared to the previous amount which was 7131 features. PCA was not appropriate to perform here because of the signficiant decrease in the number of features that were used compared to the first models in Part 1, thus affecting the accuracy greatly. "
   ]
  },
  {
   "cell_type": "markdown",
   "id": "dc908234",
   "metadata": {},
   "source": [
    "# Part 3 - Class Balancing"
   ]
  },
  {
   "cell_type": "markdown",
   "id": "11680eb9",
   "metadata": {},
   "source": [
    "Problem 1: "
   ]
  },
  {
   "cell_type": "code",
   "execution_count": 100,
   "id": "d2aeb4aa",
   "metadata": {},
   "outputs": [],
   "source": [
    "from imblearn.over_sampling import SMOTE\n",
    "\n",
    "sm = SMOTE()\n",
    "\n",
    "x_bal_train, y_bal_train = sm.fit_resample(df_train_scaled, y_train)\n",
    "x_bal_test, y_bal_test = sm.fit_resample(df_test_scaled, y_test)"
   ]
  },
  {
   "cell_type": "code",
   "execution_count": 101,
   "id": "d13e7675",
   "metadata": {},
   "outputs": [
    {
     "name": "stderr",
     "output_type": "stream",
     "text": [
      "C:\\Users\\ameen\\anaconda3\\lib\\site-packages\\seaborn\\_decorators.py:36: FutureWarning: Pass the following variable as a keyword arg: x. From version 0.12, the only valid positional argument will be `data`, and passing other arguments without an explicit keyword will result in an error or misinterpretation.\n",
      "  warnings.warn(\n"
     ]
    },
    {
     "data": {
      "text/plain": [
       "<AxesSubplot:xlabel='cancer type', ylabel='count'>"
      ]
     },
     "execution_count": 101,
     "metadata": {},
     "output_type": "execute_result"
    },
    {
     "data": {
      "image/png": "[encoded data removed]",
      "text/plain": [
       "<Figure size 640x480 with 1 Axes>"
      ]
     },
     "metadata": {},
     "output_type": "display_data"
    }
   ],
   "source": [
    "sns.countplot(y_bal_train)"
   ]
  },
  {
   "cell_type": "code",
   "execution_count": 102,
   "id": "fd1d1f61",
   "metadata": {},
   "outputs": [
    {
     "name": "stderr",
     "output_type": "stream",
     "text": [
      "C:\\Users\\ameen\\anaconda3\\lib\\site-packages\\seaborn\\_decorators.py:36: FutureWarning: Pass the following variable as a keyword arg: x. From version 0.12, the only valid positional argument will be `data`, and passing other arguments without an explicit keyword will result in an error or misinterpretation.\n",
      "  warnings.warn(\n"
     ]
    },
    {
     "data": {
      "text/plain": [
       "<AxesSubplot:xlabel='cancer type', ylabel='count'>"
      ]
     },
     "execution_count": 102,
     "metadata": {},
     "output_type": "execute_result"
    },
    {
     "data": {
      "image/png": "[encoded data removed]",
      "text/plain": [
       "<Figure size 640x480 with 1 Axes>"
      ]
     },
     "metadata": {},
     "output_type": "display_data"
    }
   ],
   "source": [
    "sns.countplot(y_bal_test)"
   ]
  },
  {
   "cell_type": "markdown",
   "id": "304595b3",
   "metadata": {},
   "source": [
    "The distribution of the outputs in the training data is 29 and the distribution of the outputs in the test data is 18. "
   ]
  },
  {
   "cell_type": "markdown",
   "id": "9f083982",
   "metadata": {},
   "source": [
    "Problem 2:"
   ]
  },
  {
   "cell_type": "code",
   "execution_count": 103,
   "id": "fabec4fc",
   "metadata": {},
   "outputs": [
    {
     "name": "stdout",
     "output_type": "stream",
     "text": [
      "1.0\n",
      "[[18  0]\n",
      " [ 7 11]]\n",
      "Accuracy: 0.8055555555555556\n"
     ]
    }
   ],
   "source": [
    "model4 = LogisticRegression()\n",
    "model4.fit(x_bal_train, y_bal_train)\n",
    "y_pred7 = model4.predict(x_bal_test)\n",
    "print(model4.score(x_bal_train,y_bal_train))\n",
    "\n",
    "cm = metrics.confusion_matrix(y_bal_test, y_pred7)\n",
    "print(cm)\n",
    "print(\"Accuracy:\", metrics.accuracy_score(y_bal_test, y_pred7))"
   ]
  },
  {
   "cell_type": "code",
   "execution_count": 104,
   "id": "c10cccd5",
   "metadata": {},
   "outputs": [
    {
     "name": "stdout",
     "output_type": "stream",
     "text": [
      "1.0\n",
      "[[16  2]\n",
      " [ 3 15]]\n",
      "Accuracy: 0.8611111111111112\n"
     ]
    }
   ],
   "source": [
    "model5 = GaussianNB()\n",
    "model5.fit(x_bal_train, y_bal_train)\n",
    "y_pred8 = model5.predict(x_bal_test)\n",
    "print(model5.score(x_bal_train, y_bal_train))\n",
    "\n",
    "cm = metrics.confusion_matrix(y_bal_test, y_pred8)\n",
    "print(cm)\n",
    "print(\"Accuracy:\", metrics.accuracy_score(y_bal_test, y_pred8))"
   ]
  },
  {
   "cell_type": "markdown",
   "id": "ad97f529",
   "metadata": {},
   "source": [
    "The accuracy for the liner regressional model was 0.805. It was also able to predict 29 patients correctly and 7 patients incorrectly. The Naive Bayes model has an accuracy of 0.86. It was also able to predict 31 patients correctly and 5 incorrectly. The models are lower in accuracy compared to the accuracy of the models in Part 1.  "
   ]
  },
  {
   "cell_type": "markdown",
   "id": "60b4a14c",
   "metadata": {},
   "source": [
    "# Part 4 - Summarizing"
   ]
  },
  {
   "cell_type": "markdown",
   "id": "61ba5176",
   "metadata": {},
   "source": [
    "I would try and build a model from this data by firstly making the data balanced especially the outcomes. I would use SMOTE to reduce the values to have a similar amount of outcomes that could give a more significant result. The model type I would choose will definitely be a Naive Bayes Model. I would also use the standard scaling instead of PCA because within this case, using PCA actually decreased the accuracy more than what it was previously. The data sets that will be used will be the ones that identified a great majority of patients correctly and with those data sets, such as the x training data, it will be generalizable to new patients. "
   ]
  }
 ],
 "metadata": {
  "kernelspec": {
   "display_name": "Python 3 (ipykernel)",
   "language": "python",
   "name": "python3"
  },
  "language_info": {
   "codemirror_mode": {
    "name": "ipython",
    "version": 3
   },
   "file_extension": ".py",
   "mimetype": "text/x-python",
   "name": "python",
   "nbconvert_exporter": "python",
   "pygments_lexer": "ipython3",
   "version": "3.9.13"
  }
 },
 "nbformat": 4,
 "nbformat_minor": 5
}
